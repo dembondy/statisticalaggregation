{
 "cells": [
  {
   "cell_type": "code",
   "execution_count": 1,
   "metadata": {
    "collapsed": true
   },
   "outputs": [],
   "source": [
    "import pandas as pd\n",
    "import numpy as np\n",
    "import matplotlib.pyplot as plt\n",
    "%matplotlib inline\n",
    "from mpl_toolkits.mplot3d import Axes3D"
   ]
  },
  {
   "cell_type": "markdown",
   "metadata": {},
   "source": [
    "# Definition of base case:\n",
    "\n",
    "I define a central generator that outputs $300\\, \\text{MW} \\pm 30\\%$ , with a measurement quantization of 0.5%, as allowed by the Danish TSO (Energinet). \n",
    "\n",
    "Note that for MVar, the allowed uncertainty is 1%"
   ]
  },
  {
   "cell_type": "code",
   "execution_count": 2,
   "metadata": {
    "collapsed": true
   },
   "outputs": [],
   "source": [
    "# Some initial parameter initialization\n",
    "time = 24  # hrs\n",
    "t_sample = 5 # minutes\n",
    "ts = np.arange(int(time * 60/t_sample))  # time series"
   ]
  },
  {
   "cell_type": "code",
   "execution_count": 74,
   "metadata": {},
   "outputs": [],
   "source": [
    "central_unit = 300000  # kW, base output\n",
    "acceptable_error = 0.005 # percentage\n",
    "\n",
    "# I define a helping function for finding the RMSE of the base pattern and quantized measurement\n",
    "def rmse(base, quantized):\n",
    "    return np.sqrt(((base - quantized) ** 2).mean())\n",
    "\n",
    "# I also define the quantization function of the measurement\n",
    "def quantizer(base_array,percentage):\n",
    "    quant = np.round((base_array-(base_array*percentage)/2)/(base_array*percentage))*(base_array*acceptable_error)\n",
    "    return quant"
   ]
  },
  {
   "cell_type": "code",
   "execution_count": 75,
   "metadata": {},
   "outputs": [
    {
     "name": "stdout",
     "output_type": "stream",
     "text": [
      "The RMSE of the generator is 717.0405022199465\n"
     ]
    },
    {
     "data": {
      "text/plain": [
       "<matplotlib.legend.Legend at 0x10b0399e8>"
      ]
     },
     "execution_count": 75,
     "metadata": {},
     "output_type": "execute_result"
    },
    {
     "data": {
      "image/png": "[encoded data removed]",
      "text/plain": [
       "<matplotlib.figure.Figure at 0x10ae4a6d8>"
      ]
     },
     "metadata": {},
     "output_type": "display_data"
    }
   ],
   "source": [
    "gen_quant=central_unit*acceptable_error  #quantization factor\n",
    "#noise = np.random.random(len(ts))*0.1  # Some extra noise on the generator output, not on the measurement\n",
    "noise = 0\n",
    "generator_pattern = (np.sin(np.linspace(-np.pi,np.pi,len(ts)))+noise)*0.3*central_unit+central_unit # a simple sine wave\n",
    "#generator_quant = np.floor((generator_pattern-gen_quant/2)/gen_quant)*gen_quant\n",
    "generator_quant = quantizer(generator_pattern,acceptable_error)\n",
    "gen_rmse = rmse(generator_pattern,generator_quant)\n",
    "print('The RMSE of the generator is {}'.format(gen_rmse))\n",
    "\n",
    "plt.figure()\n",
    "plt.plot(ts[200:250],generator_pattern[200:250],label='generator base pattern')\n",
    "plt.step(ts[200:250],generator_quant[200:250],label='quantized generator measurement',)\n",
    "plt.ylabel('Power [kW]')\n",
    "plt.xlabel('Time [{} min]'.format(t_sample))\n",
    "plt.legend()"
   ]
  },
  {
   "cell_type": "markdown",
   "metadata": {},
   "source": [
    "# Defining the individual DER base patterns\n",
    "\n",
    "We are assuming a generic DER which can follow the same pattern as the generator, but in a much smaller scale. This could be an EV charging post."
   ]
  },
  {
   "cell_type": "code",
   "execution_count": 46,
   "metadata": {
    "collapsed": true
   },
   "outputs": [],
   "source": [
    "# First we define a function that will generate the base pattern with a slightly different noise patterns\n",
    "def pattern_making(t_sample, n, mean_val, quant_percentage, seed):\n",
    "    '''# Defining EVs. It's commented out since these charging patterns don't allow us to compare to the generator\n",
    "    morning_charge_time = 9  # am, hour in the morning\n",
    "    morning_charge_duration = 1 # hrs\n",
    "    afternoon_charge_time = 17 # hour in the afternoon\n",
    "    afternoon_charge_duration = 3 # hrs\n",
    "    max_charge = max_val  # kW\n",
    "    error_morning = np.sin(np.linspace(0,np.pi,int(morning_charge_duration*60/t_sample)))*max_charge + np.random.random(int(morning_charge_duration*60/t_sample))*0.3\n",
    "    error_afternoon = np.sin(np.linspace(0,np.pi,int(afternoon_charge_duration*60/t_sample)))*max_charge + np.random.random(int(afternoon_charge_duration*60/t_sample))*0.3\n",
    "    '''\n",
    "    # Defining pattern\n",
    "    np.random.seed(seed)  # Change the random seed \n",
    "    noise_ev = np.random.random(n)*0.1\n",
    "    base_pattern = (np.sin(np.linspace(-np.pi,np.pi,n))+noise_ev)*0.3*mean_val+mean_val\n",
    "    quantizer2 = lambda x: np.round((x-(x*quant_percentage)/2)/(x*quant_percentage))*(x*quant_percentage)\n",
    "    vquantizer2 = np.vectorize(quantizer2)\n",
    "    #base_pattern = np.zeros(len(ts))\n",
    "    #base_pattern[int(morning_charge_time*60/t_sample):int(morning_charge_time*60/t_sample+morning_charge_duration*60/t_sample)] = error_morning\n",
    "    #base_pattern[int(afternoon_charge_time*60/t_sample):int(afternoon_charge_time*60/t_sample+afternoon_charge_duration*60/t_sample)] = error_afternoon\n",
    "    quant_pattern = vquantizer2(base_pattern)\n",
    "    return base_pattern, quant_pattern\n",
    "\n"
   ]
  },
  {
   "cell_type": "markdown",
   "metadata": {},
   "source": [
    "## We can now start comparing an aggregation of a pool vs. a big generator\n",
    "\n",
    "We assume that the DERs deliver the same output as the generator. In this case the quantization error is the same, i.e. we have to have a precision of 0.5%"
   ]
  },
  {
   "cell_type": "code",
   "execution_count": 47,
   "metadata": {
    "collapsed": true
   },
   "outputs": [],
   "source": [
    "EVs_count = 10\n",
    "pattern_mat = np.zeros((len(ts),EVs_count))\n",
    "quant_mat = np.zeros((len(ts),EVs_count))\n",
    "for i in range(EVs_count):\n",
    "    base, quant = pattern_making(t_sample,len(ts),30000,0.005,i)\n",
    "    pattern_mat[:,i] = base\n",
    "    quant_mat[:,i] = quant\n",
    "total_pool_quant = np.sum(quant_mat, axis=1)\n",
    "total_pool_base = np.sum(pattern_mat,axis=1)"
   ]
  },
  {
   "cell_type": "code",
   "execution_count": 48,
   "metadata": {},
   "outputs": [
    {
     "data": {
      "text/plain": [
       "<matplotlib.legend.Legend at 0x109ecf358>"
      ]
     },
     "execution_count": 48,
     "metadata": {},
     "output_type": "execute_result"
    },
    {
     "data": {
      "image/png": "[encoded data removed]",
      "text/plain": [
       "<matplotlib.figure.Figure at 0x109dea8d0>"
      ]
     },
     "metadata": {},
     "output_type": "display_data"
    }
   ],
   "source": [
    "plt.figure()\n",
    "plt.step(ts[200:250],total_pool_quant[200:250],label='aggregator')\n",
    "plt.step(ts[200:250],generator_quant[200:250],label='generator')\n",
    "#plt.plot(ts[200:250],generator_pattern[200:250],label='generator_base')\n",
    "#plt.plot(ts[200:250],total_pool_base[200:250],label='aggregator_base')\n",
    "plt.ylabel('Power [kW]')\n",
    "plt.xlabel('Time [{} min]'.format(t_sample))\n",
    "plt.legend()"
   ]
  },
  {
   "cell_type": "code",
   "execution_count": 49,
   "metadata": {},
   "outputs": [
    {
     "data": {
      "text/plain": [
       "[<matplotlib.lines.Line2D at 0x109dea198>]"
      ]
     },
     "execution_count": 49,
     "metadata": {},
     "output_type": "execute_result"
    },
    {
     "data": {
      "image/png": "[encoded data removed]",
      "text/plain": [
       "<matplotlib.figure.Figure at 0x109df3a58>"
      ]
     },
     "metadata": {},
     "output_type": "display_data"
    }
   ],
   "source": [
    "plt.figure()\n",
    "plt.plot(total_pool_quant,generator_quant-total_pool_quant,'.')\n",
    "plt.plot(total_pool_base,generator_pattern-total_pool_base,'.')"
   ]
  },
  {
   "cell_type": "code",
   "execution_count": 50,
   "metadata": {},
   "outputs": [
    {
     "name": "stdout",
     "output_type": "stream",
     "text": [
      "For an aggregation of 10 units:\n",
      "Maximum error in generator measurement: 39831.72259867331 kW\n",
      "Root mean square error in generator measurement: 17355.824495769688 kW\n",
      "########\n",
      "Maximum error in aggregator measurement: 1169.63865305105 kW\n",
      "Root mean square error in aggregator measurement: 440.534753805938 kW\n"
     ]
    }
   ],
   "source": [
    "max_error_gen = max(abs(generator_pattern-generator_quant))\n",
    "max_error_agg = max(abs(total_pool_quant-total_pool_base))\n",
    "rms_error_gen = rmse(generator_pattern,generator_quant)\n",
    "rms_error_agg = rmse(total_pool_quant,total_pool_base)\n",
    "\n",
    "###\n",
    "print('For an aggregation of {} units:'.format(EVs_count))\n",
    "print('Maximum error in generator measurement: {} kW'.format(max_error_gen))\n",
    "print('Root mean square error in generator measurement: {} kW'.format(rms_error_gen))\n",
    "print('########')\n",
    "print('Maximum error in aggregator measurement: {} kW'.format(max_error_agg))\n",
    "print('Root mean square error in aggregator measurement: {} kW'.format(rms_error_agg))"
   ]
  },
  {
   "cell_type": "code",
   "execution_count": 51,
   "metadata": {
    "collapsed": true
   },
   "outputs": [],
   "source": [
    "EVs_count_2 = 100\n",
    "pattern_mat_2 = np.zeros((len(ts),EVs_count_2))\n",
    "quant_mat_2 = np.zeros((len(ts),EVs_count_2))\n",
    "for i in range(EVs_count_2):\n",
    "    base, quant = pattern_making(t_sample,len(ts),3000,0.005,i)\n",
    "    pattern_mat_2[:,i] = base\n",
    "    quant_mat_2[:,i] = quant\n",
    "    \n",
    "total_pool_quant_2 = np.sum(quant_mat_2, axis=1)\n",
    "total_pool_base_2 = np.sum(pattern_mat_2, axis=1)"
   ]
  },
  {
   "cell_type": "code",
   "execution_count": 52,
   "metadata": {},
   "outputs": [
    {
     "data": {
      "text/plain": [
       "<matplotlib.legend.Legend at 0x10a0eb668>"
      ]
     },
     "execution_count": 52,
     "metadata": {},
     "output_type": "execute_result"
    },
    {
     "data": {
      "image/png": "[encoded data removed]",
      "text/plain": [
       "<matplotlib.figure.Figure at 0x109fe5550>"
      ]
     },
     "metadata": {},
     "output_type": "display_data"
    }
   ],
   "source": [
    "plt.figure()\n",
    "plt.step(ts[200:250],total_pool_quant_2[200:250],label='aggregator')\n",
    "plt.step(ts[200:250],generator_quant[200:250],label='generator')\n",
    "plt.plot(ts[200:250],generator_pattern[200:250],label='generator_base')\n",
    "plt.plot(ts[200:250],total_pool_base_2[200:250],label='aggregator_base')\n",
    "plt.ylabel('Power [kW]')\n",
    "plt.xlabel('Time [{} min]'.format(t_sample))\n",
    "plt.legend()"
   ]
  },
  {
   "cell_type": "code",
   "execution_count": 53,
   "metadata": {},
   "outputs": [
    {
     "name": "stdout",
     "output_type": "stream",
     "text": [
      "Maximum error in generator measurement: 39831.72259867331 kW\n",
      "Root mean square error in generator measurement: 17355.824495769688 kW\n",
      "########\n",
      "Maximum error in aggregator measurement: -171.01298433815828 kW\n",
      "Root mean square error in aggregator measurement: 379.5201130752446 kW\n"
     ]
    }
   ],
   "source": [
    "max_error_gen = max(generator_pattern-generator_quant)\n",
    "max_error_agg = max(total_pool_quant_2-total_pool_base_2)\n",
    "rms_error_gen = rmse(generator_pattern,generator_quant)\n",
    "rms_error_agg = rmse(total_pool_quant_2,total_pool_base_2)\n",
    "\n",
    "###\n",
    "print('Maximum error in generator measurement: {} kW'.format(max_error_gen))\n",
    "print('Root mean square error in generator measurement: {} kW'.format(rms_error_gen))\n",
    "print('########')\n",
    "print('Maximum error in aggregator measurement: {} kW'.format(max_error_agg))\n",
    "print('Root mean square error in aggregator measurement: {} kW'.format(rms_error_agg))"
   ]
  },
  {
   "cell_type": "markdown",
   "metadata": {},
   "source": [
    "# Calculation of Aggregator RMSE in terms of pool size"
   ]
  },
  {
   "cell_type": "code",
   "execution_count": 54,
   "metadata": {},
   "outputs": [],
   "source": [
    "max_pool = 50\n",
    "step = 1\n",
    "\n",
    "pool_base = np.zeros((len(ts),max_pool))\n",
    "pool_quant = np.zeros((len(ts),max_pool))\n",
    "rmse_vec = np.zeros(int(max_pool/step)-1)\n",
    "n = 0\n",
    "for j in range(1, max_pool,step):\n",
    "    pattern_mat_3 = np.zeros((len(ts),j))\n",
    "    quant_mat_3 = np.zeros((len(ts),j))\n",
    "    base_pow = central_unit/(j)\n",
    "    for i in range(j):\n",
    "        base, quant = pattern_making(t_sample,len(ts),base_pow,0.005,i)\n",
    "        pattern_mat_3[:,i] = base\n",
    "        quant_mat_3[:,i] = quant\n",
    "\n",
    "    total_pool_quant_3 = np.sum(quant_mat_3, axis=1)\n",
    "    total_pool_base_3 = np.sum(pattern_mat_3, axis=1)\n",
    "    pool_base[:,j-1] = total_pool_quant_3\n",
    "    pool_quant[:,j-1] = total_pool_base_3\n",
    "    error = rmse(total_pool_base_3,total_pool_quant_3)\n",
    "    #print(error)\n",
    "    rmse_vec[n]=error\n",
    "    n=n+1\n"
   ]
  },
  {
   "cell_type": "code",
   "execution_count": 55,
   "metadata": {},
   "outputs": [
    {
     "data": {
      "text/plain": [
       "<matplotlib.text.Text at 0x10a140240>"
      ]
     },
     "execution_count": 55,
     "metadata": {},
     "output_type": "execute_result"
    },
    {
     "data": {
      "image/png": "[encoded data removed]",
      "text/plain": [
       "<matplotlib.figure.Figure at 0x109ccf908>"
      ]
     },
     "metadata": {},
     "output_type": "display_data"
    }
   ],
   "source": [
    "plt.figure()\n",
    "plt.plot(rmse_vec,'.')\n",
    "plt.ylabel('RMSE')\n",
    "plt.xlabel('Pool size')"
   ]
  },
  {
   "cell_type": "markdown",
   "metadata": {},
   "source": [
    "## Now varying over measurement quantization\n",
    "\n",
    "We do the same analysis as before, but also varying over the quantization percentage, in order to get a 3-D figure"
   ]
  },
  {
   "cell_type": "code",
   "execution_count": 32,
   "metadata": {},
   "outputs": [],
   "source": [
    "max_pool = 50\n",
    "step = 1\n",
    "quant_steps = 0.0005\n",
    "quant_list = np.arange(0.005,0.01,quant_steps)\n",
    "pool_list = np.arange(1,max_pool,step)\n",
    "\n",
    "#pool_base_2 = np.zeros((len(ts),max_pool,len(quant_list)))\n",
    "#pool_quant_2 = np.zeros((len(ts),max_pool,len(quant_list)))\n",
    "rmse_mat = np.zeros((int(max_pool/step)-1,len(quant_list)))\n",
    "n = 0\n",
    "for size in pool_list:\n",
    "    l = 0\n",
    "    for quant_value in quant_list:\n",
    "        pattern_mat_4 = np.zeros((len(ts),size))\n",
    "        quant_mat_4 = np.zeros((len(ts),size))\n",
    "        base_pow = central_unit/(size)\n",
    "        for i in range(size):\n",
    "            base, quant = pattern_making(t_sample,len(ts),base_pow,quant_value,i)\n",
    "            pattern_mat_4[:,i] = base\n",
    "            quant_mat_4[:,i] = quant\n",
    "\n",
    "        total_pool_quant_4 = np.sum(quant_mat_4, axis=1)\n",
    "        total_pool_base_4 = np.sum(pattern_mat_4, axis=1)\n",
    "        #pool_base_2[:,j-1,l] = total_pool_quant_4\n",
    "        #pool_quant_2[:,j-1,l] = total_pool_base_4\n",
    "        error = max(np.abs(total_pool_base_4-total_pool_quant_4)/total_pool_base_4)\n",
    "        #error = rmse(total_pool_base_4,total_pool_quant_4)\n",
    "        rmse_mat[n,l]=error\n",
    "        l=l+1\n",
    "    n=n+1"
   ]
  },
  {
   "cell_type": "code",
   "execution_count": 33,
   "metadata": {},
   "outputs": [
    {
     "data": {
      "text/html": [
       "<div>\n",
       "<style>\n",
       "    .dataframe thead tr:only-child th {\n",
       "        text-align: right;\n",
       "    }\n",
       "\n",
       "    .dataframe thead th {\n",
       "        text-align: left;\n",
       "    }\n",
       "\n",
       "    .dataframe tbody tr th {\n",
       "        vertical-align: top;\n",
       "    }\n",
       "</style>\n",
       "<table border=\"1\" class=\"dataframe\">\n",
       "  <thead>\n",
       "    <tr style=\"text-align: right;\">\n",
       "      <th></th>\n",
       "      <th>0.005</th>\n",
       "      <th>0.0055</th>\n",
       "      <th>0.006</th>\n",
       "      <th>0.0065</th>\n",
       "      <th>0.007</th>\n",
       "      <th>0.0075</th>\n",
       "      <th>0.008</th>\n",
       "      <th>0.0085</th>\n",
       "      <th>0.009</th>\n",
       "      <th>0.0095</th>\n",
       "    </tr>\n",
       "  </thead>\n",
       "  <tbody>\n",
       "    <tr>\n",
       "      <th>1</th>\n",
       "      <td>0.005000</td>\n",
       "      <td>0.0045</td>\n",
       "      <td>0.004</td>\n",
       "      <td>0.0055</td>\n",
       "      <td>0.006</td>\n",
       "      <td>0.0025</td>\n",
       "      <td>5.797971e-16</td>\n",
       "      <td>0.0055</td>\n",
       "      <td>0.001</td>\n",
       "      <td>0.0025</td>\n",
       "    </tr>\n",
       "    <tr>\n",
       "      <th>2</th>\n",
       "      <td>0.005000</td>\n",
       "      <td>0.0045</td>\n",
       "      <td>0.004</td>\n",
       "      <td>0.0055</td>\n",
       "      <td>0.006</td>\n",
       "      <td>0.0025</td>\n",
       "      <td>6.429590e-16</td>\n",
       "      <td>0.0055</td>\n",
       "      <td>0.001</td>\n",
       "      <td>0.0025</td>\n",
       "    </tr>\n",
       "    <tr>\n",
       "      <th>3</th>\n",
       "      <td>0.005000</td>\n",
       "      <td>0.0045</td>\n",
       "      <td>0.004</td>\n",
       "      <td>0.0055</td>\n",
       "      <td>0.006</td>\n",
       "      <td>0.0025</td>\n",
       "      <td>6.745341e-16</td>\n",
       "      <td>0.0055</td>\n",
       "      <td>0.001</td>\n",
       "      <td>0.0025</td>\n",
       "    </tr>\n",
       "    <tr>\n",
       "      <th>4</th>\n",
       "      <td>0.005000</td>\n",
       "      <td>0.0045</td>\n",
       "      <td>0.004</td>\n",
       "      <td>0.0055</td>\n",
       "      <td>0.006</td>\n",
       "      <td>0.0025</td>\n",
       "      <td>7.022028e-16</td>\n",
       "      <td>0.0055</td>\n",
       "      <td>0.001</td>\n",
       "      <td>0.0025</td>\n",
       "    </tr>\n",
       "    <tr>\n",
       "      <th>5</th>\n",
       "      <td>0.004006</td>\n",
       "      <td>0.0045</td>\n",
       "      <td>0.004</td>\n",
       "      <td>0.0055</td>\n",
       "      <td>0.006</td>\n",
       "      <td>0.0025</td>\n",
       "      <td>6.773780e-16</td>\n",
       "      <td>0.0055</td>\n",
       "      <td>0.001</td>\n",
       "      <td>0.0025</td>\n",
       "    </tr>\n",
       "    <tr>\n",
       "      <th>6</th>\n",
       "      <td>0.004165</td>\n",
       "      <td>0.0045</td>\n",
       "      <td>0.004</td>\n",
       "      <td>0.0055</td>\n",
       "      <td>0.006</td>\n",
       "      <td>0.0025</td>\n",
       "      <td>6.777807e-16</td>\n",
       "      <td>0.0055</td>\n",
       "      <td>0.001</td>\n",
       "      <td>0.0025</td>\n",
       "    </tr>\n",
       "    <tr>\n",
       "      <th>7</th>\n",
       "      <td>0.003573</td>\n",
       "      <td>0.0045</td>\n",
       "      <td>0.004</td>\n",
       "      <td>0.0055</td>\n",
       "      <td>0.006</td>\n",
       "      <td>0.0025</td>\n",
       "      <td>7.848347e-16</td>\n",
       "      <td>0.0055</td>\n",
       "      <td>0.001</td>\n",
       "      <td>0.0025</td>\n",
       "    </tr>\n",
       "    <tr>\n",
       "      <th>8</th>\n",
       "      <td>0.003749</td>\n",
       "      <td>0.0045</td>\n",
       "      <td>0.004</td>\n",
       "      <td>0.0055</td>\n",
       "      <td>0.006</td>\n",
       "      <td>0.0025</td>\n",
       "      <td>6.714832e-16</td>\n",
       "      <td>0.0055</td>\n",
       "      <td>0.001</td>\n",
       "      <td>0.0025</td>\n",
       "    </tr>\n",
       "    <tr>\n",
       "      <th>9</th>\n",
       "      <td>0.002787</td>\n",
       "      <td>0.0045</td>\n",
       "      <td>0.004</td>\n",
       "      <td>0.0055</td>\n",
       "      <td>0.006</td>\n",
       "      <td>0.0025</td>\n",
       "      <td>8.071977e-16</td>\n",
       "      <td>0.0055</td>\n",
       "      <td>0.001</td>\n",
       "      <td>0.0025</td>\n",
       "    </tr>\n",
       "    <tr>\n",
       "      <th>10</th>\n",
       "      <td>0.003018</td>\n",
       "      <td>0.0045</td>\n",
       "      <td>0.004</td>\n",
       "      <td>0.0055</td>\n",
       "      <td>0.006</td>\n",
       "      <td>0.0025</td>\n",
       "      <td>8.047547e-16</td>\n",
       "      <td>0.0055</td>\n",
       "      <td>0.001</td>\n",
       "      <td>0.0025</td>\n",
       "    </tr>\n",
       "    <tr>\n",
       "      <th>11</th>\n",
       "      <td>0.003179</td>\n",
       "      <td>0.0045</td>\n",
       "      <td>0.004</td>\n",
       "      <td>0.0055</td>\n",
       "      <td>0.006</td>\n",
       "      <td>0.0025</td>\n",
       "      <td>8.857750e-16</td>\n",
       "      <td>0.0055</td>\n",
       "      <td>0.001</td>\n",
       "      <td>0.0025</td>\n",
       "    </tr>\n",
       "    <tr>\n",
       "      <th>12</th>\n",
       "      <td>0.002918</td>\n",
       "      <td>0.0045</td>\n",
       "      <td>0.004</td>\n",
       "      <td>0.0055</td>\n",
       "      <td>0.006</td>\n",
       "      <td>0.0025</td>\n",
       "      <td>7.880809e-16</td>\n",
       "      <td>0.0055</td>\n",
       "      <td>0.001</td>\n",
       "      <td>0.0025</td>\n",
       "    </tr>\n",
       "    <tr>\n",
       "      <th>13</th>\n",
       "      <td>0.003861</td>\n",
       "      <td>0.0045</td>\n",
       "      <td>0.004</td>\n",
       "      <td>0.0055</td>\n",
       "      <td>0.006</td>\n",
       "      <td>0.0025</td>\n",
       "      <td>8.605509e-16</td>\n",
       "      <td>0.0055</td>\n",
       "      <td>0.001</td>\n",
       "      <td>0.0025</td>\n",
       "    </tr>\n",
       "    <tr>\n",
       "      <th>14</th>\n",
       "      <td>0.002857</td>\n",
       "      <td>0.0045</td>\n",
       "      <td>0.004</td>\n",
       "      <td>0.0055</td>\n",
       "      <td>0.006</td>\n",
       "      <td>0.0025</td>\n",
       "      <td>9.511200e-16</td>\n",
       "      <td>0.0055</td>\n",
       "      <td>0.001</td>\n",
       "      <td>0.0025</td>\n",
       "    </tr>\n",
       "    <tr>\n",
       "      <th>15</th>\n",
       "      <td>0.003001</td>\n",
       "      <td>0.0045</td>\n",
       "      <td>0.004</td>\n",
       "      <td>0.0055</td>\n",
       "      <td>0.006</td>\n",
       "      <td>0.0025</td>\n",
       "      <td>8.966869e-16</td>\n",
       "      <td>0.0055</td>\n",
       "      <td>0.001</td>\n",
       "      <td>0.0025</td>\n",
       "    </tr>\n",
       "    <tr>\n",
       "      <th>16</th>\n",
       "      <td>0.002818</td>\n",
       "      <td>0.0045</td>\n",
       "      <td>0.004</td>\n",
       "      <td>0.0055</td>\n",
       "      <td>0.006</td>\n",
       "      <td>0.0025</td>\n",
       "      <td>6.850358e-16</td>\n",
       "      <td>0.0055</td>\n",
       "      <td>0.001</td>\n",
       "      <td>0.0025</td>\n",
       "    </tr>\n",
       "    <tr>\n",
       "      <th>17</th>\n",
       "      <td>0.002940</td>\n",
       "      <td>0.0045</td>\n",
       "      <td>0.004</td>\n",
       "      <td>0.0055</td>\n",
       "      <td>0.006</td>\n",
       "      <td>0.0025</td>\n",
       "      <td>7.989133e-16</td>\n",
       "      <td>0.0055</td>\n",
       "      <td>0.001</td>\n",
       "      <td>0.0025</td>\n",
       "    </tr>\n",
       "    <tr>\n",
       "      <th>18</th>\n",
       "      <td>0.002504</td>\n",
       "      <td>0.0045</td>\n",
       "      <td>0.004</td>\n",
       "      <td>0.0055</td>\n",
       "      <td>0.006</td>\n",
       "      <td>0.0025</td>\n",
       "      <td>7.765128e-16</td>\n",
       "      <td>0.0055</td>\n",
       "      <td>0.001</td>\n",
       "      <td>0.0025</td>\n",
       "    </tr>\n",
       "    <tr>\n",
       "      <th>19</th>\n",
       "      <td>0.002631</td>\n",
       "      <td>0.0045</td>\n",
       "      <td>0.004</td>\n",
       "      <td>0.0055</td>\n",
       "      <td>0.006</td>\n",
       "      <td>0.0025</td>\n",
       "      <td>7.740721e-16</td>\n",
       "      <td>0.0055</td>\n",
       "      <td>0.001</td>\n",
       "      <td>0.0025</td>\n",
       "    </tr>\n",
       "    <tr>\n",
       "      <th>20</th>\n",
       "      <td>0.002506</td>\n",
       "      <td>0.0045</td>\n",
       "      <td>0.004</td>\n",
       "      <td>0.0055</td>\n",
       "      <td>0.006</td>\n",
       "      <td>0.0025</td>\n",
       "      <td>9.114887e-16</td>\n",
       "      <td>0.0055</td>\n",
       "      <td>0.001</td>\n",
       "      <td>0.0025</td>\n",
       "    </tr>\n",
       "  </tbody>\n",
       "</table>\n",
       "</div>"
      ],
      "text/plain": [
       "      0.0050  0.0055  0.0060  0.0065  0.0070  0.0075        0.0080  0.0085  \\\n",
       "1   0.005000  0.0045   0.004  0.0055   0.006  0.0025  5.797971e-16  0.0055   \n",
       "2   0.005000  0.0045   0.004  0.0055   0.006  0.0025  6.429590e-16  0.0055   \n",
       "3   0.005000  0.0045   0.004  0.0055   0.006  0.0025  6.745341e-16  0.0055   \n",
       "4   0.005000  0.0045   0.004  0.0055   0.006  0.0025  7.022028e-16  0.0055   \n",
       "5   0.004006  0.0045   0.004  0.0055   0.006  0.0025  6.773780e-16  0.0055   \n",
       "6   0.004165  0.0045   0.004  0.0055   0.006  0.0025  6.777807e-16  0.0055   \n",
       "7   0.003573  0.0045   0.004  0.0055   0.006  0.0025  7.848347e-16  0.0055   \n",
       "8   0.003749  0.0045   0.004  0.0055   0.006  0.0025  6.714832e-16  0.0055   \n",
       "9   0.002787  0.0045   0.004  0.0055   0.006  0.0025  8.071977e-16  0.0055   \n",
       "10  0.003018  0.0045   0.004  0.0055   0.006  0.0025  8.047547e-16  0.0055   \n",
       "11  0.003179  0.0045   0.004  0.0055   0.006  0.0025  8.857750e-16  0.0055   \n",
       "12  0.002918  0.0045   0.004  0.0055   0.006  0.0025  7.880809e-16  0.0055   \n",
       "13  0.003861  0.0045   0.004  0.0055   0.006  0.0025  8.605509e-16  0.0055   \n",
       "14  0.002857  0.0045   0.004  0.0055   0.006  0.0025  9.511200e-16  0.0055   \n",
       "15  0.003001  0.0045   0.004  0.0055   0.006  0.0025  8.966869e-16  0.0055   \n",
       "16  0.002818  0.0045   0.004  0.0055   0.006  0.0025  6.850358e-16  0.0055   \n",
       "17  0.002940  0.0045   0.004  0.0055   0.006  0.0025  7.989133e-16  0.0055   \n",
       "18  0.002504  0.0045   0.004  0.0055   0.006  0.0025  7.765128e-16  0.0055   \n",
       "19  0.002631  0.0045   0.004  0.0055   0.006  0.0025  7.740721e-16  0.0055   \n",
       "20  0.002506  0.0045   0.004  0.0055   0.006  0.0025  9.114887e-16  0.0055   \n",
       "\n",
       "    0.0090  0.0095  \n",
       "1    0.001  0.0025  \n",
       "2    0.001  0.0025  \n",
       "3    0.001  0.0025  \n",
       "4    0.001  0.0025  \n",
       "5    0.001  0.0025  \n",
       "6    0.001  0.0025  \n",
       "7    0.001  0.0025  \n",
       "8    0.001  0.0025  \n",
       "9    0.001  0.0025  \n",
       "10   0.001  0.0025  \n",
       "11   0.001  0.0025  \n",
       "12   0.001  0.0025  \n",
       "13   0.001  0.0025  \n",
       "14   0.001  0.0025  \n",
       "15   0.001  0.0025  \n",
       "16   0.001  0.0025  \n",
       "17   0.001  0.0025  \n",
       "18   0.001  0.0025  \n",
       "19   0.001  0.0025  \n",
       "20   0.001  0.0025  "
      ]
     },
     "execution_count": 33,
     "metadata": {},
     "output_type": "execute_result"
    }
   ],
   "source": [
    "df = pd.DataFrame(rmse_mat)\n",
    "df.index = pool_list\n",
    "df.columns = quant_list\n",
    "df.head(20)\n",
    "#np.shape(rmse_mat)\n",
    "#fig3d = plt.figure()\n",
    "#ax = fig3d.add_subplot(111, projection='3d')\n",
    "#ax.plot3D(rmse_mat)"
   ]
  },
  {
   "cell_type": "code",
   "execution_count": 34,
   "metadata": {},
   "outputs": [
    {
     "data": {
      "text/plain": [
       "<matplotlib.colorbar.Colorbar at 0x1098a1a90>"
      ]
     },
     "execution_count": 34,
     "metadata": {},
     "output_type": "execute_result"
    },
    {
     "data": {
      "image/png": "[encoded data removed]",
      "text/plain": [
       "<matplotlib.figure.Figure at 0x1097bd5c0>"
      ]
     },
     "metadata": {},
     "output_type": "display_data"
    }
   ],
   "source": [
    "plt.figure()\n",
    "plt.imshow(rmse_mat)\n",
    "plt.colorbar()"
   ]
  },
  {
   "cell_type": "code",
   "execution_count": null,
   "metadata": {},
   "outputs": [],
   "source": []
  },
  {
   "cell_type": "code",
   "execution_count": 108,
   "metadata": {},
   "outputs": [
    {
     "data": {
      "text/plain": [
       "1100.0"
      ]
     },
     "execution_count": 108,
     "metadata": {},
     "output_type": "execute_result"
    }
   ],
   "source": [
    "220000*0.005"
   ]
  },
  {
   "cell_type": "code",
   "execution_count": null,
   "metadata": {
    "collapsed": true
   },
   "outputs": [],
   "source": []
  }
 ],
 "metadata": {
  "kernelspec": {
   "display_name": "Python 3",
   "language": "python",
   "name": "python3"
  },
  "language_info": {
   "codemirror_mode": {
    "name": "ipython",
    "version": 3
   },
   "file_extension": ".py",
   "mimetype": "text/x-python",
   "name": "python",
   "nbconvert_exporter": "python",
   "pygments_lexer": "ipython3",
   "version": "3.6.2"
  }
 },
 "nbformat": 4,
 "nbformat_minor": 2
}
